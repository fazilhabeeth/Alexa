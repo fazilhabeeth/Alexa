{
 "cells": [
  {
   "cell_type": "code",
   "execution_count": 2,
   "metadata": {},
   "outputs": [
    {
     "name": "stdout",
     "output_type": "stream",
     "text": [
      "Requirement already satisfied: SpeechRecognition in c:\\users\\fazil\\anaconda3\\lib\\site-packages (3.9.0)\n",
      "Requirement already satisfied: requests>=2.26.0 in c:\\users\\fazil\\anaconda3\\lib\\site-packages (from SpeechRecognition) (2.28.1)\n",
      "Requirement already satisfied: urllib3<1.27,>=1.21.1 in c:\\users\\fazil\\anaconda3\\lib\\site-packages (from requests>=2.26.0->SpeechRecognition) (1.24.2)\n",
      "Requirement already satisfied: idna<4,>=2.5 in c:\\users\\fazil\\anaconda3\\lib\\site-packages (from requests>=2.26.0->SpeechRecognition) (2.8)\n",
      "Requirement already satisfied: certifi>=2017.4.17 in c:\\users\\fazil\\anaconda3\\lib\\site-packages (from requests>=2.26.0->SpeechRecognition) (2019.9.11)\n",
      "Requirement already satisfied: charset-normalizer<3,>=2 in c:\\users\\fazil\\anaconda3\\lib\\site-packages (from requests>=2.26.0->SpeechRecognition) (2.1.1)\n",
      "Note: you may need to restart the kernel to use updated packages.\n"
     ]
    }
   ],
   "source": [
    "pip install SpeechRecognition"
   ]
  },
  {
   "cell_type": "code",
   "execution_count": 3,
   "metadata": {},
   "outputs": [
    {
     "name": "stdout",
     "output_type": "stream",
     "text": [
      "Requirement already satisfied: pyttsx3 in c:\\users\\fazil\\anaconda3\\lib\\site-packages (2.90)\n",
      "Requirement already satisfied: pypiwin32 in c:\\users\\fazil\\anaconda3\\lib\\site-packages (from pyttsx3) (223)\n",
      "Requirement already satisfied: pywin32 in c:\\users\\fazil\\anaconda3\\lib\\site-packages (from pyttsx3) (223)\n",
      "Requirement already satisfied: comtypes in c:\\users\\fazil\\anaconda3\\lib\\site-packages (from pyttsx3) (1.1.7)\n",
      "Note: you may need to restart the kernel to use updated packages.\n"
     ]
    }
   ],
   "source": [
    "pip install pyttsx3"
   ]
  },
  {
   "cell_type": "code",
   "execution_count": 4,
   "metadata": {},
   "outputs": [
    {
     "name": "stdout",
     "output_type": "stream",
     "text": [
      "Requirement already satisfied: PyAudio in c:\\users\\fazil\\anaconda3\\lib\\site-packages (0.2.13)\n",
      "Note: you may need to restart the kernel to use updated packages.\n"
     ]
    }
   ],
   "source": [
    "pip install PyAudio"
   ]
  },
  {
   "cell_type": "code",
   "execution_count": 1,
   "metadata": {},
   "outputs": [
    {
     "name": "stdout",
     "output_type": "stream",
     "text": [
      "Requirement already satisfied: pywhatkit in c:\\users\\fazil\\anaconda3\\lib\\site-packages (5.4)\n",
      "Requirement already satisfied: Flask in c:\\users\\fazil\\anaconda3\\lib\\site-packages (from pywhatkit) (1.1.1)\n",
      "Requirement already satisfied: Pillow in c:\\users\\fazil\\anaconda3\\lib\\site-packages (from pywhatkit) (6.2.0)\n",
      "Requirement already satisfied: pyautogui in c:\\users\\fazil\\anaconda3\\lib\\site-packages (from pywhatkit) (0.9.53)\n",
      "Requirement already satisfied: requests in c:\\users\\fazil\\anaconda3\\lib\\site-packages (from pywhatkit) (2.28.1)\n",
      "Requirement already satisfied: wikipedia in c:\\users\\fazil\\anaconda3\\lib\\site-packages (from pywhatkit) (1.4.0)\n",
      "Requirement already satisfied: itsdangerous>=0.24 in c:\\users\\fazil\\anaconda3\\lib\\site-packages (from Flask->pywhatkit) (1.1.0)\n",
      "Requirement already satisfied: click>=5.1 in c:\\users\\fazil\\anaconda3\\lib\\site-packages (from Flask->pywhatkit) (7.0)\n",
      "Requirement already satisfied: Jinja2>=2.10.1 in c:\\users\\fazil\\anaconda3\\lib\\site-packages (from Flask->pywhatkit) (2.10.3)\n",
      "Requirement already satisfied: Werkzeug>=0.15 in c:\\users\\fazil\\anaconda3\\lib\\site-packages (from Flask->pywhatkit) (0.16.0)\n",
      "Requirement already satisfied: mouseinfo in c:\\users\\fazil\\anaconda3\\lib\\site-packages (from pyautogui->pywhatkit) (0.1.3)\n",
      "Requirement already satisfied: PyTweening>=1.0.1 in c:\\users\\fazil\\anaconda3\\lib\\site-packages (from pyautogui->pywhatkit) (1.0.4)\n",
      "Requirement already satisfied: pyscreeze>=0.1.21 in c:\\users\\fazil\\anaconda3\\lib\\site-packages (from pyautogui->pywhatkit) (0.1.28)\n",
      "Requirement already satisfied: pymsgbox in c:\\users\\fazil\\anaconda3\\lib\\site-packages (from pyautogui->pywhatkit) (1.0.9)\n",
      "Requirement already satisfied: pygetwindow>=0.0.5 in c:\\users\\fazil\\anaconda3\\lib\\site-packages (from pyautogui->pywhatkit) (0.0.9)\n",
      "Requirement already satisfied: charset-normalizer<3,>=2 in c:\\users\\fazil\\anaconda3\\lib\\site-packages (from requests->pywhatkit) (2.1.1)\n",
      "Requirement already satisfied: certifi>=2017.4.17 in c:\\users\\fazil\\anaconda3\\lib\\site-packages (from requests->pywhatkit) (2019.9.11)\n",
      "Requirement already satisfied: urllib3<1.27,>=1.21.1 in c:\\users\\fazil\\anaconda3\\lib\\site-packages (from requests->pywhatkit) (1.24.2)\n",
      "Requirement already satisfied: idna<4,>=2.5 in c:\\users\\fazil\\anaconda3\\lib\\site-packages (from requests->pywhatkit) (2.8)\n",
      "Requirement already satisfied: beautifulsoup4 in c:\\users\\fazil\\anaconda3\\lib\\site-packages (from wikipedia->pywhatkit) (4.8.0)\n",
      "Requirement already satisfied: MarkupSafe>=0.23 in c:\\users\\fazil\\anaconda3\\lib\\site-packages (from Jinja2>=2.10.1->Flask->pywhatkit) (1.1.1)\n",
      "Requirement already satisfied: pyrect in c:\\users\\fazil\\anaconda3\\lib\\site-packages (from pygetwindow>=0.0.5->pyautogui->pywhatkit) (0.2.0)\n",
      "Requirement already satisfied: soupsieve>=1.2 in c:\\users\\fazil\\anaconda3\\lib\\site-packages (from beautifulsoup4->wikipedia->pywhatkit) (1.9.3)\n",
      "Requirement already satisfied: pyperclip in c:\\users\\fazil\\anaconda3\\lib\\site-packages (from mouseinfo->pyautogui->pywhatkit) (1.8.2)\n",
      "Note: you may need to restart the kernel to use updated packages.\n"
     ]
    }
   ],
   "source": [
    "pip install pywhatkit"
   ]
  },
  {
   "cell_type": "code",
   "execution_count": 2,
   "metadata": {},
   "outputs": [
    {
     "name": "stdout",
     "output_type": "stream",
     "text": [
      "Requirement already satisfied: datetime in c:\\users\\fazil\\anaconda3\\lib\\site-packages (4.9)\n",
      "Requirement already satisfied: pytz in c:\\users\\fazil\\anaconda3\\lib\\site-packages (from datetime) (2019.3)\n",
      "Requirement already satisfied: zope.interface in c:\\users\\fazil\\anaconda3\\lib\\site-packages (from datetime) (5.5.2)\n",
      "Requirement already satisfied: setuptools in c:\\users\\fazil\\anaconda3\\lib\\site-packages (from zope.interface->datetime) (41.4.0)\n",
      "Note: you may need to restart the kernel to use updated packages.\n"
     ]
    }
   ],
   "source": [
    "pip install datetime"
   ]
  },
  {
   "cell_type": "code",
   "execution_count": 3,
   "metadata": {},
   "outputs": [
    {
     "name": "stdout",
     "output_type": "stream",
     "text": [
      "Requirement already satisfied: wikipedia in c:\\users\\fazil\\anaconda3\\lib\\site-packages (1.4.0)\n",
      "Requirement already satisfied: requests<3.0.0,>=2.0.0 in c:\\users\\fazil\\anaconda3\\lib\\site-packages (from wikipedia) (2.28.1)\n",
      "Requirement already satisfied: beautifulsoup4 in c:\\users\\fazil\\anaconda3\\lib\\site-packages (from wikipedia) (4.8.0)\n",
      "Requirement already satisfied: charset-normalizer<3,>=2 in c:\\users\\fazil\\anaconda3\\lib\\site-packages (from requests<3.0.0,>=2.0.0->wikipedia) (2.1.1)\n",
      "Requirement already satisfied: urllib3<1.27,>=1.21.1 in c:\\users\\fazil\\anaconda3\\lib\\site-packages (from requests<3.0.0,>=2.0.0->wikipedia) (1.24.2)\n",
      "Requirement already satisfied: idna<4,>=2.5 in c:\\users\\fazil\\anaconda3\\lib\\site-packages (from requests<3.0.0,>=2.0.0->wikipedia) (2.8)\n",
      "Requirement already satisfied: certifi>=2017.4.17 in c:\\users\\fazil\\anaconda3\\lib\\site-packages (from requests<3.0.0,>=2.0.0->wikipedia) (2019.9.11)\n",
      "Requirement already satisfied: soupsieve>=1.2 in c:\\users\\fazil\\anaconda3\\lib\\site-packages (from beautifulsoup4->wikipedia) (1.9.3)\n",
      "Note: you may need to restart the kernel to use updated packages.\n"
     ]
    }
   ],
   "source": [
    "pip install wikipedia"
   ]
  },
  {
   "cell_type": "code",
   "execution_count": 4,
   "metadata": {},
   "outputs": [
    {
     "name": "stdout",
     "output_type": "stream",
     "text": [
      "Requirement already satisfied: pyjokes in c:\\users\\fazil\\anaconda3\\lib\\site-packages (0.6.0)\n",
      "Note: you may need to restart the kernel to use updated packages.\n"
     ]
    }
   ],
   "source": [
    "pip install pyjokes"
   ]
  },
  {
   "cell_type": "code",
   "execution_count": null,
   "metadata": {},
   "outputs": [],
   "source": [
    "\n",
    "import speech_recognition as sr\n",
    "import pyttsx3\n",
    "import pywhatkit\n",
    "import datetime\n",
    "import wikipedia\n",
    "import pyjokes\n",
    "\n",
    "listener = sr.Recognizer()\n",
    "engine = pyttsx3.init()\n",
    "voices = engine.getProperty('voices')\n",
    "engine.setProperty('voice', voices[1].id)\n",
    "\n",
    "\n",
    "def talk(text):\n",
    "    engine.say(text)\n",
    "    engine.runAndWait()\n",
    "\n",
    "\n",
    "def take_command():\n",
    "    \n",
    "    try:\n",
    "        with sr.Microphone() as source:\n",
    "            print('Alexa is listening...')\n",
    "            voice = listener.listen(source)\n",
    "            command = listener.recognize_google(voice)\n",
    "            command = command.lower()\n",
    "            if 'alexa' in command:\n",
    "                command = command.replace('alexa', '')\n",
    "                print(command)\n",
    "    except:\n",
    "        pass\n",
    "    return command\n",
    "\n",
    "\n",
    "def run_alexa():\n",
    "    command = take_command()\n",
    "    print(command)\n",
    "    if 'play' in command:\n",
    "        song = command.replace('play', '')\n",
    "        talk('playing ' + song)\n",
    "        pywhatkit.playonyt(song)\n",
    "    elif 'time' in command:\n",
    "        time = datetime.datetime.now().strftime('%I:%M %p')\n",
    "        print(time)\n",
    "        talk('Current time is ' + time)\n",
    "    elif 'who the heck is' in command:\n",
    "        person = command.replace('who the heck is', '')\n",
    "        info = wikipedia.summary(person, 1)\n",
    "        print(info)\n",
    "        talk(info)\n",
    "    elif 'date' in command:\n",
    "        talk('sorry, I have a headache')\n",
    "    elif 'are you single' in command:\n",
    "        talk('I am in a relationship with wifi')\n",
    "    elif 'joke' in command:\n",
    "        talk(pyjokes.get_joke())\n",
    "    else:\n",
    "        talk('Please say the command again.')\n",
    "\n",
    "\n",
    "while True:\n",
    "    run_alexa()\n"
   ]
  },
  {
   "cell_type": "code",
   "execution_count": null,
   "metadata": {},
   "outputs": [],
   "source": []
  }
 ],
 "metadata": {
  "kernelspec": {
   "display_name": "Python 3",
   "language": "python",
   "name": "python3"
  },
  "language_info": {
   "codemirror_mode": {
    "name": "ipython",
    "version": 3
   },
   "file_extension": ".py",
   "mimetype": "text/x-python",
   "name": "python",
   "nbconvert_exporter": "python",
   "pygments_lexer": "ipython3",
   "version": "3.7.4"
  }
 },
 "nbformat": 4,
 "nbformat_minor": 2
}
